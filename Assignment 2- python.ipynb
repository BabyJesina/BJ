{
 "cells": [
  {
   "cell_type": "code",
   "execution_count": 2,
   "metadata": {},
   "outputs": [
    {
     "name": "stdout",
     "output_type": "stream",
     "text": [
      "10\n"
     ]
    }
   ],
   "source": [
    "# My  function myreduce\n",
    "def do_sum(x1,x2):\n",
    "    return x1 + x2\n",
    "\n",
    "def myreduce(func,seq):\n",
    "    first = seq[0]\n",
    "    for i in seq[1:]:\n",
    "        first = func(first,i)\n",
    "    return(first) \n",
    "print(myreduce(do_sum,[1,2,3,4]))"
   ]
  },
  {
   "cell_type": "code",
   "execution_count": 14,
   "metadata": {},
   "outputs": [
    {
     "name": "stdout",
     "output_type": "stream",
     "text": [
      "[('Product1', 120), ('Product2', 140), ('Product3', 150)]\n"
     ]
    }
   ],
   "source": [
    "# 1.2 My own function myfilter\n",
    "mylist = [(\"Product1\", 120),\n",
    "          (\"Product2\",140),\n",
    "          (\"Product3\",150), ]\n",
    "filtered = list(filter(lambda item: item[1] >=120, mylist))\n",
    "print(filtered)\n"
   ]
  },
  {
   "cell_type": "code",
   "execution_count": 13,
   "metadata": {
    "scrolled": true
   },
   "outputs": [
    {
     "name": "stdout",
     "output_type": "stream",
     "text": [
      "['A', 'C', 'A', 'D', 'G', 'I', 'L', 'D']\n",
      "['x', 'y', 'z']\n"
     ]
    },
    {
     "data": {
      "text/plain": [
       "'list1 = [1, 2, 3, 4, 5, 6, 7]\\n#matrix = []\\n#matrix = [[1,2],[3,4],[5,6],[7,8]]\\ntranspose = [[row[i] for row in list1] for i in range(list1)]\\nprint(transpose)\\n'"
      ]
     },
     "execution_count": 13,
     "metadata": {},
     "output_type": "execute_result"
    }
   ],
   "source": [
    "# list comprehension\n",
    "\n",
    "list_a = ['a','c','a','d','g','i','l','d']\n",
    "lower_a = [i.upper() for i in list_a]\n",
    "print(lower_a)\n",
    "\n",
    "list_b = ['x','y','z']\n",
    "new_list = []\n",
    "new_list = [x * 1 for x in list_b]\n",
    "print(new_list)\n",
    "\n",
    "'''list1 = [1, 2, 3, 4, 5, 6, 7]\n",
    "#matrix = []\n",
    "#matrix = [[1,2],[3,4],[5,6],[7,8]]\n",
    "transpose = [[row[i] for row in list1] for i in range(list1)]\n",
    "print(transpose)\n",
    "'''"
   ]
  },
  {
   "cell_type": "code",
   "execution_count": 2,
   "metadata": {},
   "outputs": [
    {
     "name": "stdout",
     "output_type": "stream",
     "text": [
      "2.48746859276655\n"
     ]
    }
   ],
   "source": [
    "#Task 2--- 1.1 Area of triangel\n",
    "def do_area(a, b, c):\n",
    "   s = (a+b+c)/2\n",
    "   return (s*(s-a)*(s-b)*(s-c)) ** 0.5\n",
    "print(do_area(5, 5, 1))"
   ]
  },
  {
   "cell_type": "code",
   "execution_count": 8,
   "metadata": {},
   "outputs": [
    {
     "name": "stdout",
     "output_type": "stream",
     "text": [
      "d\n",
      "It is not a vowel\n"
     ]
    }
   ],
   "source": [
    "# 2.2---- Tell a  character if vowel or not\n",
    "x = input()\n",
    "if x in ('a','e','i','o','u'):\n",
    "    print(\"It is a vowel\")  \n",
    "else:\n",
    "    print(\"It is not a vowel\")\n",
    "    \n"
   ]
  },
  {
   "cell_type": "code",
   "execution_count": 11,
   "metadata": {},
   "outputs": [
    {
     "name": "stdout",
     "output_type": "stream",
     "text": [
      "d\n",
      "it is not a vowel\n"
     ]
    }
   ],
   "source": [
    "#2.2 Tell a character is vowel or not\n",
    "x = input()\n",
    "def check_vowel(x):\n",
    "    if (x == 'a' and x == 'e' and x == 'i' and x == 'o' and x == 'u'):\n",
    "        return \"True\"\n",
    "    else:\n",
    "        return \"False\"\n",
    "if check_vowel(x) == \"True\":\n",
    "        print(\"it is a vowel\")\n",
    "else:\n",
    "         print(\"it is not a vowel\")"
   ]
  },
  {
   "cell_type": "code",
   "execution_count": 3,
   "metadata": {},
   "outputs": [
    {
     "name": "stdout",
     "output_type": "stream",
     "text": [
      "[1, 3, 4, 5]\n"
     ]
    }
   ],
   "source": [
    "# 2.1 lengths of the words in the list. \n",
    "lst = ['a','abc','abcd','abcde']\n",
    "newlst = []\n",
    "def word_len(ary):\n",
    "    for i in ary:\n",
    "        newlst.append(len(i))\n",
    "word_len(lst)        \n",
    "print(newlst)    \n",
    "    "
   ]
  },
  {
   "cell_type": "code",
   "execution_count": 4,
   "metadata": {},
   "outputs": [
    {
     "name": "stdout",
     "output_type": "stream",
     "text": [
      "['eat', 'apple', 'helo', 'banana']  \n"
     ]
    }
   ],
   "source": [
    "# 1.2 returns the list of words that are longer than n. \n",
    "lst = ['a','at','eat','apple','helo','banana'] \n",
    "newlst = []\n",
    "def word_len(ary,n):\n",
    "    for i in ary:\n",
    "        if len(i) > n:\n",
    "            newlst.append(i)\n",
    "word_len(lst,2)\n",
    "print(newlst,\" \")\n",
    " "
   ]
  },
  {
   "cell_type": "code",
   "execution_count": 12,
   "metadata": {},
   "outputs": [
    {
     "name": "stdout",
     "output_type": "stream",
     "text": [
      "longest123  \n"
     ]
    }
   ],
   "source": [
    "#Task 1---3. returns the longest word in a list.\n",
    "lst = ['apple','long','short','longer','longest1','longest123']\n",
    "newslst = []\n",
    "def word_len(ary):\n",
    "    n = \"\"\n",
    "    for i in ary:\n",
    "        if (len(i) > len(n)):\n",
    "            n = i\n",
    "    return n\n",
    "print(word_len(lst),\" \")\n",
    "            \n"
   ]
  },
  {
   "cell_type": "code",
   "execution_count": 1,
   "metadata": {},
   "outputs": [
    {
     "data": {
      "text/plain": [
       "'C:\\\\Users\\\\USMM005\\\\Downloads'"
      ]
     },
     "execution_count": 1,
     "metadata": {},
     "output_type": "execute_result"
    }
   ],
   "source": [
    "pwd()"
   ]
  },
  {
   "cell_type": "code",
   "execution_count": null,
   "metadata": {},
   "outputs": [],
   "source": []
  }
 ],
 "metadata": {
  "kernelspec": {
   "display_name": "Python 3",
   "language": "python",
   "name": "python3"
  },
  "language_info": {
   "codemirror_mode": {
    "name": "ipython",
    "version": 3
   },
   "file_extension": ".py",
   "mimetype": "text/x-python",
   "name": "python",
   "nbconvert_exporter": "python",
   "pygments_lexer": "ipython3",
   "version": "3.6.10"
  }
 },
 "nbformat": 4,
 "nbformat_minor": 4
}
